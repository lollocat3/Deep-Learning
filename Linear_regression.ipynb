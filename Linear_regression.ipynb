{
 "cells": [
  {
   "cell_type": "code",
   "execution_count": 2,
   "metadata": {},
   "outputs": [],
   "source": [
    "import numpy as np\n",
    "import matplotlib.pyplot as plt\n",
    "import random"
   ]
  },
  {
   "cell_type": "code",
   "execution_count": 3,
   "metadata": {},
   "outputs": [],
   "source": [
    "def hypothesis(X, a, b):\n",
    "    # X shape = (1, num_examples)\n",
    "    return a*X+b\n",
    "\n",
    "    "
   ]
  },
  {
   "cell_type": "code",
   "execution_count": 4,
   "metadata": {},
   "outputs": [],
   "source": [
    "def compute_cost(target, hypo):\n",
    "    residual = np.square((hypo-target))\n",
    "    return (1/(2*hypo.shape[1]))*np.sum([element for element in residual])\n"
   ]
  },
  {
   "cell_type": "code",
   "execution_count": 5,
   "metadata": {},
   "outputs": [],
   "source": [
    "def cost_derivative(a, b, hypo, target, X):\n",
    "    b_derivative = (1/hypo.shape[1])*np.sum(hypo-target)\n",
    "    a_derivative = float((1/hypo.shape[1])*(np.dot(X,(hypo-target).T)))\n",
    "    return a_derivative, b_derivative\n"
   ]
  },
  {
   "cell_type": "code",
   "execution_count": 6,
   "metadata": {},
   "outputs": [],
   "source": [
    "def gradient_descent(a, b, b_derivative, a_derivative, learning_rate = 0.01):\n",
    "    return a-learning_rate*a_derivative, b-learning_rate*b_derivative"
   ]
  },
  {
   "cell_type": "code",
   "execution_count": 11,
   "metadata": {},
   "outputs": [],
   "source": [
    "def main(data, num_iter = 1000):\n",
    "    a, b = np.random.random(), np.random.random()\n",
    "    X = np.reshape(data[0,:], (1, data[0,:].shape[0]))\n",
    "    target = np.reshape(data[1,:], (1, data[1,:].shape[0]))\n",
    "    for i in range(num_iter):\n",
    "        hypo = np.reshape(hypothesis(X, a, b), (1, X.shape[1]))\n",
    "        cost = compute_cost(target, hypo)\n",
    "        a_derivative, b_derivative = cost_derivative(a, b, hypo,target, X)\n",
    "        a, b = gradient_descent(a, b, b_derivative, a_derivative, learning_rate = 0.0003)\n",
    "    return a, b"
   ]
  },
  {
   "cell_type": "code",
   "execution_count": null,
   "metadata": {},
   "outputs": [],
   "source": [
    "%matplotlib inline\n",
    "'''y_values = []\n",
    "for i in range(0,20):\n",
    "    n = random.randint(1,100)\n",
    "    y_values.append(n)\n",
    "x_values = [i for i in range(20)]'''\n",
    "x_values = [6, 6, 6, 4, 7, 4, 6, 5, 6, 4, 6, 5 ]\n",
    "y_values = [7, 6, 5, 5, 6, 3, 7, 7, 5, 4, 5, 7]\n",
    "x = np.array([x_values, y_values])\n",
    "a, b = main(x, 100000)\n",
    "print('f(x) = '+str(a)+'x '+ str(b))\n",
    "plt.plot(x_values, np.dot(a,x_values)+b)\n",
    "plt.scatter(x_values,y_values)\n",
    "plt.show()\n"
   ]
  },
  {
   "cell_type": "code",
   "execution_count": 8,
   "metadata": {},
   "outputs": [],
   "source": [
    "def explicit_normal_eqn(x, y):\n",
    "    x = np.array(x)\n",
    "    y = np.array(y)\n",
    "    x = np.reshape(x, (x.shape[0],1))\n",
    "    y = np.reshape(y, (y.shape[0],1))\n",
    "    x_bias = np.ones((x.shape[0],1))\n",
    "    x = np.append(x_bias,x,axis=1)\n",
    "    temp1 = np.linalg.inv(np.transpose(x).dot(x))\n",
    "    temp2=np.transpose(x).dot(y)\n",
    "    theta =temp1.dot(temp2)\n",
    "    return theta[0][0], theta[1][0]\n",
    "    "
   ]
  },
  {
   "cell_type": "code",
   "execution_count": 17,
   "metadata": {},
   "outputs": [
    {
     "name": "stdout",
     "output_type": "stream",
     "text": [
      "f(x) = 0.6488549618320576x + 2.068702290076345\n"
     ]
    },
    {
     "data": {
      "image/png": "[encoded data removed]",
      "text/plain": [
       "<Figure size 432x288 with 1 Axes>"
      ]
     },
     "metadata": {
      "needs_background": "light"
     },
     "output_type": "display_data"
    }
   ],
   "source": [
    "X = [6, 6, 6, 4, 7, 4, 6, 5, 6, 4, 6, 5 ]\n",
    "y =[7, 6, 5, 5, 6, 3, 7, 7, 5, 4, 5, 7]\n",
    "a, b = explicit_normal_eqn(X, y)\n",
    "print('f(x) = '+str(b)+'x + '+ str(a))\n",
    "plt.scatter(X, y)\n",
    "plt.plot(np.reshape(np.array(X), (np.array(X).shape[0], 1)), np.dot(b, np.array(X))+a)\n",
    "plt.show()\n"
   ]
  },
  {
   "cell_type": "code",
   "execution_count": null,
   "metadata": {},
   "outputs": [],
   "source": []
  },
  {
   "cell_type": "code",
   "execution_count": null,
   "metadata": {},
   "outputs": [],
   "source": []
  }
 ],
 "metadata": {
  "kernelspec": {
   "display_name": "Python 3",
   "language": "python",
   "name": "python3"
  },
  "language_info": {
   "codemirror_mode": {
    "name": "ipython",
    "version": 3
   },
   "file_extension": ".py",
   "mimetype": "text/x-python",
   "name": "python",
   "nbconvert_exporter": "python",
   "pygments_lexer": "ipython3",
   "version": "3.7.6"
  }
 },
 "nbformat": 4,
 "nbformat_minor": 4
}
